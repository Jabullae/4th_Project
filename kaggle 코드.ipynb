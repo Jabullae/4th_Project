{
 "cells": [
  {
   "cell_type": "code",
   "execution_count": 3,
   "metadata": {},
   "outputs": [
    {
     "name": "stdout",
     "output_type": "stream",
     "text": [
      "Collecting opencv-python\n",
      "  Downloading opencv_python-4.6.0.66-cp36-abi3-win_amd64.whl (35.6 MB)\n",
      "     --------------------------------------- 35.6/35.6 MB 19.8 MB/s eta 0:00:00\n",
      "Requirement already satisfied: numpy>=1.19.3 in c:\\ananconda3\\lib\\site-packages (from opencv-python) (1.21.5)\n",
      "Installing collected packages: opencv-python\n",
      "Successfully installed opencv-python-4.6.0.66\n"
     ]
    }
   ],
   "source": [
    "! pip install opencv-python"
   ]
  },
  {
   "cell_type": "code",
   "execution_count": 19,
   "metadata": {},
   "outputs": [
    {
     "data": {
      "text/plain": [
       "'C:\\\\Users\\\\admin'"
      ]
     },
     "execution_count": 19,
     "metadata": {},
     "output_type": "execute_result"
    }
   ],
   "source": [
    "os.getcwd()"
   ]
  },
  {
   "cell_type": "code",
   "execution_count": 22,
   "metadata": {},
   "outputs": [
    {
     "ename": "ModuleNotFoundError",
     "evalue": "No module named 'retinanet'",
     "output_type": "error",
     "traceback": [
      "\u001b[1;31m---------------------------------------------------------------------------\u001b[0m",
      "\u001b[1;31mModuleNotFoundError\u001b[0m                       Traceback (most recent call last)",
      "Cell \u001b[1;32mIn [22], line 11\u001b[0m\n\u001b[0;32m      8\u001b[0m \u001b[39mfrom\u001b[39;00m \u001b[39msklearn\u001b[39;00m\u001b[39m.\u001b[39;00m\u001b[39mmodel_selection\u001b[39;00m \u001b[39mimport\u001b[39;00m train_test_split\n\u001b[0;32m      9\u001b[0m \u001b[39mfrom\u001b[39;00m \u001b[39mPIL\u001b[39;00m \u001b[39mimport\u001b[39;00m Image, ImageDraw\n\u001b[1;32m---> 11\u001b[0m \u001b[39mfrom\u001b[39;00m \u001b[39mretinanet\u001b[39;00m \u001b[39mimport\u001b[39;00m model\n\u001b[0;32m     12\u001b[0m \u001b[39mfrom\u001b[39;00m \u001b[39mretinanet\u001b[39;00m\u001b[39m.\u001b[39;00m\u001b[39mdataloader\u001b[39;00m \u001b[39mimport\u001b[39;00m collater, Resizer, Augmenter, Normalizer, UnNormalizer, CSVDataset\n\u001b[0;32m     13\u001b[0m \u001b[39mimport\u001b[39;00m \u001b[39mtorch\u001b[39;00m\n",
      "\u001b[1;31mModuleNotFoundError\u001b[0m: No module named 'retinanet'"
     ]
    }
   ],
   "source": [
    "import os\n",
    "import re\n",
    "import cv2\n",
    "import time\n",
    "import numpy as np\n",
    "import pandas as pd\n",
    "import json\n",
    "from sklearn.model_selection import train_test_split\n",
    "from PIL import Image, ImageDraw\n",
    "\n",
    "from retinanet import model\n",
    "from retinanet.dataloader import collater, Resizer, Augmenter, Normalizer, UnNormalizer, CSVDataset\n",
    "import torch\n",
    "import torch.optim as optim\n",
    "import torchvision.transforms as T\n",
    "from torchvision.utils import make_grid \n",
    "from torch.utils.data import DataLoader, Dataset\n",
    "\n",
    "\n",
    "import seaborn as sns\n",
    "from matplotlib import pyplot as plt\n",
    "%matplotlib inline"
   ]
  },
  {
   "cell_type": "code",
   "execution_count": 7,
   "metadata": {},
   "outputs": [
    {
     "name": "stdout",
     "output_type": "stream",
     "text": [
      "<class 'dict'>\n",
      "\n",
      "{4: 'Other plastic bottle', 5: 'Clear plastic bottle', 6: 'Glass bottle', 10: 'Food Can', 11: 'Aerosol', 12: 'Drink can', 20: 'Paper cup', 21: 'Disposable plastic cup', 22: 'Foam cup', 23: 'Glass cup', 24: 'Other plastic cup', 30: 'Magazine paper', 31: 'Tissues', 32: 'Wrapping paper', 33: 'Normal paper'}\n",
      "Number of classes:  15\n",
      "\n",
      "Image data gathered\n",
      "\n",
      "Complete dict generated \n",
      "Found not valid:  184\n",
      "\n"
     ]
    }
   ],
   "source": [
    "# Get data from annotations\n",
    "path_to_anno = 'C:/dev/MLDL/미니프로젝트/data/annotations.json'\n",
    "\n",
    "with open(path_to_anno) as f:\n",
    "  data = json.load(f)\n",
    "\n",
    "print(type(data))\n",
    "print()\n",
    "\n",
    "# required classes for my problem statement\n",
    "classes_req = ['Bottle', 'Can', 'Cup', 'Paper']\n",
    "classes = {}\n",
    "classes_id = {}\n",
    "\n",
    "for i in data['categories']:\n",
    "  if(i['supercategory'] in classes_req):\n",
    "    classes[i['id']] = i['name']\n",
    "\n",
    "print(classes)\n",
    "print(\"Number of classes: \", len(classes))\n",
    "print()\n",
    "\n",
    "#Get image path and data \n",
    "images_data = {}\n",
    "\n",
    "for i in data['images']:\n",
    "  temp = {\n",
    "      'file_n': 'C:/dev/MLDL/미니프로젝트/data/'+i['file_name'],\n",
    "      'width': i['width'],\n",
    "      'height': i['height'],\n",
    "  }\n",
    "  images_data[i['id']] = temp\n",
    "print(\"Image data gathered\")\n",
    "print()\n",
    "\n",
    "#Check if bounding box is valid\n",
    "def is_valid(x_min, y_min, x_max, y_max, width, height):\n",
    "    return (x_min in range(0, width)) and (x_max in range(0, width)) and (y_min in range(0, height)) and (y_max in range(0, width))\n",
    "\n",
    "\n",
    "filter_class = {\n",
    "    'Other plastic bottle': \"Bottle\", \n",
    "    'Clear plastic bottle': \"Bottle\",  \n",
    "    'Glass bottle': 'Bottle',\n",
    "    'Food Can': 'Can', \n",
    "    'Aerosol': 'Can', \n",
    "    'Drink can': 'Can', \n",
    "    'Paper cup': 'Cup', \n",
    "    'Disposable plastic cup': 'Cup', \n",
    "    'Foam cup': 'Cup', \n",
    "    'Glass cup': 'Cup', \n",
    "    'Other plastic cup': 'Cup', \n",
    "    'Magazine paper': 'Paper', \n",
    "    'Tissues': 'Paper', \n",
    "    'Wrapping paper': 'Paper', \n",
    "    'Normal paper': 'Paper'}\n",
    "\n",
    "    \n",
    "# Group images with their data\n",
    "images_with_anno = []\n",
    "not_valid=0\n",
    "for i in data['annotations']:\n",
    "  if(i['category_id'] in classes.keys()):\n",
    "    img_d = images_data[i['image_id']]\n",
    "    x_min= int(i['bbox'][0])\n",
    "    y_min= int(i['bbox'][1])\n",
    "    x_max= int(i['bbox'][0]+i['bbox'][2])\n",
    "    y_max= int(i['bbox'][1]+i['bbox'][3])\n",
    "    valid = is_valid(x_min, y_min, x_max, y_max, img_d['width'], img_d['height'])\n",
    "    temp = {\n",
    "        'image_name': img_d['file_n'],\n",
    "        'x_min': int(i['bbox'][0]),\n",
    "        'y_min': int(i['bbox'][1]),\n",
    "        'x_max': int(i['bbox'][0]+i['bbox'][2]),\n",
    "        'y_max': int(i['bbox'][1]+i['bbox'][3]),\n",
    "        'class_name': filter_class[classes[i['category_id']]],\n",
    "    }\n",
    "    if(valid):\n",
    "        images_with_anno.append(temp)\n",
    "    else:\n",
    "        not_valid+=1\n",
    "\n",
    "print(\"Complete dict generated\", \"\\nFound not valid: \", not_valid)\n",
    "print()"
   ]
  },
  {
   "cell_type": "code",
   "execution_count": 8,
   "metadata": {},
   "outputs": [],
   "source": [
    "df = pd.DataFrame(images_with_anno)\n",
    "train_df, test_df = train_test_split(df, test_size=0.2)\n",
    "train_df.to_csv('annotations.csv', index=False, header=None)\n",
    "test_df.to_csv('test_annotations.csv', index=False, header=None)"
   ]
  },
  {
   "cell_type": "code",
   "execution_count": 9,
   "metadata": {},
   "outputs": [],
   "source": [
    "with open('classes.csv', 'w') as f:\n",
    "  for i, (class_name) in enumerate(train_df['class_name'].unique()):\n",
    "    f.write(f'{class_name},{i}\\n')"
   ]
  },
  {
   "cell_type": "code",
   "execution_count": 10,
   "metadata": {},
   "outputs": [
    {
     "ename": "NameError",
     "evalue": "name 'CSVDataset' is not defined",
     "output_type": "error",
     "traceback": [
      "\u001b[1;31m---------------------------------------------------------------------------\u001b[0m",
      "\u001b[1;31mNameError\u001b[0m                                 Traceback (most recent call last)",
      "Cell \u001b[1;32mIn [10], line 1\u001b[0m\n\u001b[1;32m----> 1\u001b[0m train_data \u001b[39m=\u001b[39m CSVDataset(\u001b[39m'\u001b[39m\u001b[39m./annotations.csv\u001b[39m\u001b[39m'\u001b[39m, \u001b[39m'\u001b[39m\u001b[39m./classes.csv\u001b[39m\u001b[39m'\u001b[39m, transform \u001b[39m=\u001b[39m T\u001b[39m.\u001b[39mCompose([Augmenter(), Normalizer(), Resizer()]))\n\u001b[0;32m      2\u001b[0m test_data \u001b[39m=\u001b[39m CSVDataset(\u001b[39m'\u001b[39m\u001b[39m./test_annotations.csv\u001b[39m\u001b[39m'\u001b[39m, \u001b[39m'\u001b[39m\u001b[39m./classes.csv\u001b[39m\u001b[39m'\u001b[39m, transform \u001b[39m=\u001b[39m T\u001b[39m.\u001b[39mCompose([Augmenter(), Normalizer(), Resizer()]))\n",
      "\u001b[1;31mNameError\u001b[0m: name 'CSVDataset' is not defined"
     ]
    }
   ],
   "source": [
    "train_data = CSVDataset('./annotations.csv', './classes.csv', transform = T.Compose([Augmenter(), Normalizer(), Resizer()]))\n",
    "test_data = CSVDataset('./test_annotations.csv', './classes.csv', transform = T.Compose([Augmenter(), Normalizer(), Resizer()]))"
   ]
  },
  {
   "cell_type": "code",
   "execution_count": null,
   "metadata": {},
   "outputs": [],
   "source": []
  }
 ],
 "metadata": {
  "kernelspec": {
   "display_name": "Python 3",
   "language": "python",
   "name": "python3"
  },
  "language_info": {
   "codemirror_mode": {
    "name": "ipython",
    "version": 3
   },
   "file_extension": ".py",
   "mimetype": "text/x-python",
   "name": "python",
   "nbconvert_exporter": "python",
   "pygments_lexer": "ipython3",
   "version": "3.9.7 (default, Sep 16 2021, 16:59:28) [MSC v.1916 64 bit (AMD64)]"
  },
  "orig_nbformat": 4,
  "vscode": {
   "interpreter": {
    "hash": "18dc3b8c9de875d2deb6bb5a63292e463d82282e7fe5d4de4b13c5fc18047171"
   }
  }
 },
 "nbformat": 4,
 "nbformat_minor": 2
}
